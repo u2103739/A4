{
 "cells": [
  {
   "cell_type": "code",
   "execution_count": 5,
   "id": "1696f586",
   "metadata": {},
   "outputs": [
    {
     "name": "stdout",
     "output_type": "stream",
     "text": [
      "0.6666666269302368\n",
      "0.3333333134651184\n",
      "0.3333333134651184\n"
     ]
    }
   ],
   "source": [
    "from math import comb\n",
    "\n",
    "def probability_landing_on_step24():\n",
    "    total_prob = 0 #initialise\n",
    "    # Since we need to make 23 steps, the maximum number of 2s we can have is 11 \n",
    "    # and the minimum is 0.\n",
    "    for num_twos in range(12):  # 0 through 11\n",
    "        num_ones = 23 - 2*num_twos  # The rest of the steps must be 1s\n",
    "        # The total number of throws is the sum of ones and twos\n",
    "        total_throws = num_ones + num_twos\n",
    "        # The probability of this specific combination of 1s and 2s\n",
    "        prob = 0.5 ** total_throws\n",
    "        # The number of ways to arrange this combination of 1s and 2s\n",
    "        arrange = comb(total_throws, num_twos)\n",
    "        # Add to the total probability\n",
    "        total_prob += prob * arrange\n",
    "    return total_prob\n",
    "\n",
    "print(probability_landing_on_step24())\n",
    "print(probability_landing_on_step24() * 0.5)\n",
    "print(1 - 0.6666666865348816)"
   ]
  },
  {
   "cell_type": "code",
   "execution_count": null,
   "id": "78d33659",
   "metadata": {},
   "outputs": [],
   "source": []
  }
 ],
 "metadata": {
  "kernelspec": {
   "display_name": "Python 3 (ipykernel)",
   "language": "python",
   "name": "python3"
  },
  "language_info": {
   "codemirror_mode": {
    "name": "ipython",
    "version": 3
   },
   "file_extension": ".py",
   "mimetype": "text/x-python",
   "name": "python",
   "nbconvert_exporter": "python",
   "pygments_lexer": "ipython3",
   "version": "3.9.7"
  }
 },
 "nbformat": 4,
 "nbformat_minor": 5
}
